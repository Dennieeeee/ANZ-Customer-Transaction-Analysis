{
  "nbformat": 4,
  "nbformat_minor": 0,
  "metadata": {
    "colab": {
      "name": "Data Cleaning and EDA.ipynb",
      "provenance": [],
      "collapsed_sections": [],
      "authorship_tag": "ABX9TyP9a1v/lQUUUznKfqg3EWBc",
      "include_colab_link": true
    },
    "kernelspec": {
      "name": "python3",
      "display_name": "Python 3"
    }
  },
  "cells": [
    {
      "cell_type": "markdown",
      "metadata": {
        "id": "view-in-github",
        "colab_type": "text"
      },
      "source": [
        "<a href=\"https://colab.research.google.com/github/Dennieeeee/ANZ-Customer-Transaction-Analysis/blob/main/Data_Cleaning_and_EDA.ipynb\" target=\"_parent\"><img src=\"https://colab.research.google.com/assets/colab-badge.svg\" alt=\"Open In Colab\"/></a>"
      ]
    },
    {
      "cell_type": "code",
      "metadata": {
        "id": "2cLWn3mgVgSd"
      },
      "source": [
        "import pandas as pd\n",
        "import numpy as np\n",
        "import matplotlib.pyplot as plt\n",
        "%matplotlib inline\n",
        "import seaborn as sns"
      ],
      "execution_count": 57,
      "outputs": []
    },
    {
      "cell_type": "code",
      "metadata": {
        "id": "LGH4SF5lVqfC"
      },
      "source": [
        "df = pd.read_csv('https://raw.githubusercontent.com/Dennieeeee/ANZ-Customer-Transaction-Analysis/main/Data/ANZ%20synthesised%20transaction%20dataset.csv')"
      ],
      "execution_count": 58,
      "outputs": []
    },
    {
      "cell_type": "code",
      "metadata": {
        "id": "mT6K5iYfWjTl",
        "outputId": "5e01db59-c055-44c1-91da-373220ff60fb",
        "colab": {
          "base_uri": "https://localhost:8080/",
          "height": 151
        }
      },
      "source": [
        "df.head(1)"
      ],
      "execution_count": 59,
      "outputs": [
        {
          "output_type": "execute_result",
          "data": {
            "text/html": [
              "<div>\n",
              "<style scoped>\n",
              "    .dataframe tbody tr th:only-of-type {\n",
              "        vertical-align: middle;\n",
              "    }\n",
              "\n",
              "    .dataframe tbody tr th {\n",
              "        vertical-align: top;\n",
              "    }\n",
              "\n",
              "    .dataframe thead th {\n",
              "        text-align: right;\n",
              "    }\n",
              "</style>\n",
              "<table border=\"1\" class=\"dataframe\">\n",
              "  <thead>\n",
              "    <tr style=\"text-align: right;\">\n",
              "      <th></th>\n",
              "      <th>status</th>\n",
              "      <th>card_present_flag</th>\n",
              "      <th>bpay_biller_code</th>\n",
              "      <th>account</th>\n",
              "      <th>currency</th>\n",
              "      <th>long_lat</th>\n",
              "      <th>txn_description</th>\n",
              "      <th>merchant_id</th>\n",
              "      <th>merchant_code</th>\n",
              "      <th>first_name</th>\n",
              "      <th>balance</th>\n",
              "      <th>date</th>\n",
              "      <th>gender</th>\n",
              "      <th>age</th>\n",
              "      <th>merchant_suburb</th>\n",
              "      <th>merchant_state</th>\n",
              "      <th>extraction</th>\n",
              "      <th>amount</th>\n",
              "      <th>transaction_id</th>\n",
              "      <th>country</th>\n",
              "      <th>customer_id</th>\n",
              "      <th>merchant_long_lat</th>\n",
              "      <th>movement</th>\n",
              "    </tr>\n",
              "  </thead>\n",
              "  <tbody>\n",
              "    <tr>\n",
              "      <th>0</th>\n",
              "      <td>authorized</td>\n",
              "      <td>1.0</td>\n",
              "      <td>NaN</td>\n",
              "      <td>ACC-1598451071</td>\n",
              "      <td>AUD</td>\n",
              "      <td>153.41 -27.95</td>\n",
              "      <td>POS</td>\n",
              "      <td>81c48296-73be-44a7-befa-d053f48ce7cd</td>\n",
              "      <td>NaN</td>\n",
              "      <td>Diana</td>\n",
              "      <td>35.39</td>\n",
              "      <td>8/1/18</td>\n",
              "      <td>F</td>\n",
              "      <td>26</td>\n",
              "      <td>Ashmore</td>\n",
              "      <td>QLD</td>\n",
              "      <td>2018-08-01T01:01:15.000+0000</td>\n",
              "      <td>16.25</td>\n",
              "      <td>a623070bfead4541a6b0fff8a09e706c</td>\n",
              "      <td>Australia</td>\n",
              "      <td>CUS-2487424745</td>\n",
              "      <td>153.38 -27.99</td>\n",
              "      <td>debit</td>\n",
              "    </tr>\n",
              "  </tbody>\n",
              "</table>\n",
              "</div>"
            ],
            "text/plain": [
              "       status  card_present_flag  ... merchant_long_lat movement\n",
              "0  authorized                1.0  ...     153.38 -27.99    debit\n",
              "\n",
              "[1 rows x 23 columns]"
            ]
          },
          "metadata": {
            "tags": []
          },
          "execution_count": 59
        }
      ]
    },
    {
      "cell_type": "code",
      "metadata": {
        "id": "LHp7gvcle9a1",
        "outputId": "1d4dfb75-ecbc-47ee-81f1-df02aa0d71a1",
        "colab": {
          "base_uri": "https://localhost:8080/"
        }
      },
      "source": [
        "df.shape"
      ],
      "execution_count": 60,
      "outputs": [
        {
          "output_type": "execute_result",
          "data": {
            "text/plain": [
              "(12043, 23)"
            ]
          },
          "metadata": {
            "tags": []
          },
          "execution_count": 60
        }
      ]
    },
    {
      "cell_type": "markdown",
      "metadata": {
        "id": "0z4-uU-VXJP7"
      },
      "source": [
        "## Missing Values"
      ]
    },
    {
      "cell_type": "code",
      "metadata": {
        "id": "7OSUfeLTW3Iw",
        "outputId": "cab35fa6-ab32-457d-81e0-72617ad81963",
        "colab": {
          "base_uri": "https://localhost:8080/"
        }
      },
      "source": [
        "df.isnull().sum()"
      ],
      "execution_count": 61,
      "outputs": [
        {
          "output_type": "execute_result",
          "data": {
            "text/plain": [
              "status                   0\n",
              "card_present_flag     4326\n",
              "bpay_biller_code     11158\n",
              "account                  0\n",
              "currency                 0\n",
              "long_lat                 0\n",
              "txn_description          0\n",
              "merchant_id           4326\n",
              "merchant_code        11160\n",
              "first_name               0\n",
              "balance                  0\n",
              "date                     0\n",
              "gender                   0\n",
              "age                      0\n",
              "merchant_suburb       4326\n",
              "merchant_state        4326\n",
              "extraction               0\n",
              "amount                   0\n",
              "transaction_id           0\n",
              "country                  0\n",
              "customer_id              0\n",
              "merchant_long_lat     4326\n",
              "movement                 0\n",
              "dtype: int64"
            ]
          },
          "metadata": {
            "tags": []
          },
          "execution_count": 61
        }
      ]
    },
    {
      "cell_type": "code",
      "metadata": {
        "id": "NE2IjbluXNIh",
        "outputId": "4ef2a683-4fc4-407d-e717-1ab3f6140ca9",
        "colab": {
          "base_uri": "https://localhost:8080/"
        }
      },
      "source": [
        "print('Entrees duplicates: {}'.format(df.duplicated().sum()))\n",
        "df.drop_duplicates(inplace = True)"
      ],
      "execution_count": 62,
      "outputs": [
        {
          "output_type": "stream",
          "text": [
            "Entrees duplicates: 0\n"
          ],
          "name": "stdout"
        }
      ]
    },
    {
      "cell_type": "code",
      "metadata": {
        "id": "hNPqu9f3cnqH"
      },
      "source": [
        "#remove nulls in merchant_id\n",
        "df=df.drop(df[df['merchant_id'].isnull()].index)\n",
        "#remove nulls in merchant code\n",
        "#df=df.drop(df[df['merchant_code'].isnull()].index)"
      ],
      "execution_count": 63,
      "outputs": []
    },
    {
      "cell_type": "code",
      "metadata": {
        "id": "mb0scsT2fFDl",
        "outputId": "21bfd368-e74d-4baf-afac-d856b41c4f04",
        "colab": {
          "base_uri": "https://localhost:8080/"
        }
      },
      "source": [
        "df.shape"
      ],
      "execution_count": 64,
      "outputs": [
        {
          "output_type": "execute_result",
          "data": {
            "text/plain": [
              "(7717, 23)"
            ]
          },
          "metadata": {
            "tags": []
          },
          "execution_count": 64
        }
      ]
    },
    {
      "cell_type": "code",
      "metadata": {
        "id": "Rv1atNa9ctmD",
        "outputId": "37b1dac5-6c76-4644-91de-1e0b6c5ecd4a",
        "colab": {
          "base_uri": "https://localhost:8080/"
        }
      },
      "source": [
        "df.isnull().sum()"
      ],
      "execution_count": 65,
      "outputs": [
        {
          "output_type": "execute_result",
          "data": {
            "text/plain": [
              "status                  0\n",
              "card_present_flag       0\n",
              "bpay_biller_code     7715\n",
              "account                 0\n",
              "currency                0\n",
              "long_lat                0\n",
              "txn_description         0\n",
              "merchant_id             0\n",
              "merchant_code        7717\n",
              "first_name              0\n",
              "balance                 0\n",
              "date                    0\n",
              "gender                  0\n",
              "age                     0\n",
              "merchant_suburb         0\n",
              "merchant_state          0\n",
              "extraction              0\n",
              "amount                  0\n",
              "transaction_id          0\n",
              "country                 0\n",
              "customer_id             0\n",
              "merchant_long_lat       0\n",
              "movement                0\n",
              "dtype: int64"
            ]
          },
          "metadata": {
            "tags": []
          },
          "execution_count": 65
        }
      ]
    },
    {
      "cell_type": "code",
      "metadata": {
        "id": "3NP7FwihWmD6"
      },
      "source": [
        "df['date']=pd.to_datetime(df['date'])"
      ],
      "execution_count": 66,
      "outputs": []
    },
    {
      "cell_type": "code",
      "metadata": {
        "id": "IKCp0l4hcvnA",
        "outputId": "50253bc6-2469-4947-a937-cbffc651076d",
        "colab": {
          "base_uri": "https://localhost:8080/",
          "height": 479
        }
      },
      "source": [
        "df.head()"
      ],
      "execution_count": 67,
      "outputs": [
        {
          "output_type": "execute_result",
          "data": {
            "text/html": [
              "<div>\n",
              "<style scoped>\n",
              "    .dataframe tbody tr th:only-of-type {\n",
              "        vertical-align: middle;\n",
              "    }\n",
              "\n",
              "    .dataframe tbody tr th {\n",
              "        vertical-align: top;\n",
              "    }\n",
              "\n",
              "    .dataframe thead th {\n",
              "        text-align: right;\n",
              "    }\n",
              "</style>\n",
              "<table border=\"1\" class=\"dataframe\">\n",
              "  <thead>\n",
              "    <tr style=\"text-align: right;\">\n",
              "      <th></th>\n",
              "      <th>status</th>\n",
              "      <th>card_present_flag</th>\n",
              "      <th>bpay_biller_code</th>\n",
              "      <th>account</th>\n",
              "      <th>currency</th>\n",
              "      <th>long_lat</th>\n",
              "      <th>txn_description</th>\n",
              "      <th>merchant_id</th>\n",
              "      <th>merchant_code</th>\n",
              "      <th>first_name</th>\n",
              "      <th>balance</th>\n",
              "      <th>date</th>\n",
              "      <th>gender</th>\n",
              "      <th>age</th>\n",
              "      <th>merchant_suburb</th>\n",
              "      <th>merchant_state</th>\n",
              "      <th>extraction</th>\n",
              "      <th>amount</th>\n",
              "      <th>transaction_id</th>\n",
              "      <th>country</th>\n",
              "      <th>customer_id</th>\n",
              "      <th>merchant_long_lat</th>\n",
              "      <th>movement</th>\n",
              "    </tr>\n",
              "  </thead>\n",
              "  <tbody>\n",
              "    <tr>\n",
              "      <th>0</th>\n",
              "      <td>authorized</td>\n",
              "      <td>1.0</td>\n",
              "      <td>NaN</td>\n",
              "      <td>ACC-1598451071</td>\n",
              "      <td>AUD</td>\n",
              "      <td>153.41 -27.95</td>\n",
              "      <td>POS</td>\n",
              "      <td>81c48296-73be-44a7-befa-d053f48ce7cd</td>\n",
              "      <td>NaN</td>\n",
              "      <td>Diana</td>\n",
              "      <td>35.39</td>\n",
              "      <td>2018-08-01</td>\n",
              "      <td>F</td>\n",
              "      <td>26</td>\n",
              "      <td>Ashmore</td>\n",
              "      <td>QLD</td>\n",
              "      <td>2018-08-01T01:01:15.000+0000</td>\n",
              "      <td>16.25</td>\n",
              "      <td>a623070bfead4541a6b0fff8a09e706c</td>\n",
              "      <td>Australia</td>\n",
              "      <td>CUS-2487424745</td>\n",
              "      <td>153.38 -27.99</td>\n",
              "      <td>debit</td>\n",
              "    </tr>\n",
              "    <tr>\n",
              "      <th>1</th>\n",
              "      <td>authorized</td>\n",
              "      <td>0.0</td>\n",
              "      <td>NaN</td>\n",
              "      <td>ACC-1598451071</td>\n",
              "      <td>AUD</td>\n",
              "      <td>153.41 -27.95</td>\n",
              "      <td>SALES-POS</td>\n",
              "      <td>830a451c-316e-4a6a-bf25-e37caedca49e</td>\n",
              "      <td>NaN</td>\n",
              "      <td>Diana</td>\n",
              "      <td>21.20</td>\n",
              "      <td>2018-08-01</td>\n",
              "      <td>F</td>\n",
              "      <td>26</td>\n",
              "      <td>Sydney</td>\n",
              "      <td>NSW</td>\n",
              "      <td>2018-08-01T01:13:45.000+0000</td>\n",
              "      <td>14.19</td>\n",
              "      <td>13270a2a902145da9db4c951e04b51b9</td>\n",
              "      <td>Australia</td>\n",
              "      <td>CUS-2487424745</td>\n",
              "      <td>151.21 -33.87</td>\n",
              "      <td>debit</td>\n",
              "    </tr>\n",
              "    <tr>\n",
              "      <th>2</th>\n",
              "      <td>authorized</td>\n",
              "      <td>1.0</td>\n",
              "      <td>NaN</td>\n",
              "      <td>ACC-1222300524</td>\n",
              "      <td>AUD</td>\n",
              "      <td>151.23 -33.94</td>\n",
              "      <td>POS</td>\n",
              "      <td>835c231d-8cdf-4e96-859d-e9d571760cf0</td>\n",
              "      <td>NaN</td>\n",
              "      <td>Michael</td>\n",
              "      <td>5.71</td>\n",
              "      <td>2018-08-01</td>\n",
              "      <td>M</td>\n",
              "      <td>38</td>\n",
              "      <td>Sydney</td>\n",
              "      <td>NSW</td>\n",
              "      <td>2018-08-01T01:26:15.000+0000</td>\n",
              "      <td>6.42</td>\n",
              "      <td>feb79e7ecd7048a5a36ec889d1a94270</td>\n",
              "      <td>Australia</td>\n",
              "      <td>CUS-2142601169</td>\n",
              "      <td>151.21 -33.87</td>\n",
              "      <td>debit</td>\n",
              "    </tr>\n",
              "    <tr>\n",
              "      <th>3</th>\n",
              "      <td>authorized</td>\n",
              "      <td>1.0</td>\n",
              "      <td>NaN</td>\n",
              "      <td>ACC-1037050564</td>\n",
              "      <td>AUD</td>\n",
              "      <td>153.10 -27.66</td>\n",
              "      <td>SALES-POS</td>\n",
              "      <td>48514682-c78a-4a88-b0da-2d6302e64673</td>\n",
              "      <td>NaN</td>\n",
              "      <td>Rhonda</td>\n",
              "      <td>2117.22</td>\n",
              "      <td>2018-08-01</td>\n",
              "      <td>F</td>\n",
              "      <td>40</td>\n",
              "      <td>Buderim</td>\n",
              "      <td>QLD</td>\n",
              "      <td>2018-08-01T01:38:45.000+0000</td>\n",
              "      <td>40.90</td>\n",
              "      <td>2698170da3704fd981b15e64a006079e</td>\n",
              "      <td>Australia</td>\n",
              "      <td>CUS-1614226872</td>\n",
              "      <td>153.05 -26.68</td>\n",
              "      <td>debit</td>\n",
              "    </tr>\n",
              "    <tr>\n",
              "      <th>4</th>\n",
              "      <td>authorized</td>\n",
              "      <td>1.0</td>\n",
              "      <td>NaN</td>\n",
              "      <td>ACC-1598451071</td>\n",
              "      <td>AUD</td>\n",
              "      <td>153.41 -27.95</td>\n",
              "      <td>SALES-POS</td>\n",
              "      <td>b4e02c10-0852-4273-b8fd-7b3395e32eb0</td>\n",
              "      <td>NaN</td>\n",
              "      <td>Diana</td>\n",
              "      <td>17.95</td>\n",
              "      <td>2018-08-01</td>\n",
              "      <td>F</td>\n",
              "      <td>26</td>\n",
              "      <td>Mermaid Beach</td>\n",
              "      <td>QLD</td>\n",
              "      <td>2018-08-01T01:51:15.000+0000</td>\n",
              "      <td>3.25</td>\n",
              "      <td>329adf79878c4cf0aeb4188b4691c266</td>\n",
              "      <td>Australia</td>\n",
              "      <td>CUS-2487424745</td>\n",
              "      <td>153.44 -28.06</td>\n",
              "      <td>debit</td>\n",
              "    </tr>\n",
              "  </tbody>\n",
              "</table>\n",
              "</div>"
            ],
            "text/plain": [
              "       status  card_present_flag  ... merchant_long_lat movement\n",
              "0  authorized                1.0  ...     153.38 -27.99    debit\n",
              "1  authorized                0.0  ...     151.21 -33.87    debit\n",
              "2  authorized                1.0  ...     151.21 -33.87    debit\n",
              "3  authorized                1.0  ...     153.05 -26.68    debit\n",
              "4  authorized                1.0  ...     153.44 -28.06    debit\n",
              "\n",
              "[5 rows x 23 columns]"
            ]
          },
          "metadata": {
            "tags": []
          },
          "execution_count": 67
        }
      ]
    },
    {
      "cell_type": "markdown",
      "metadata": {
        "id": "lIAvQhkuCDc0"
      },
      "source": [
        "## Remove Unnecessary Columns"
      ]
    },
    {
      "cell_type": "code",
      "metadata": {
        "id": "d2R4_0Be3bfZ",
        "outputId": "93229751-0726-4d83-fc5c-e14f74721301",
        "colab": {
          "base_uri": "https://localhost:8080/",
          "height": 306
        }
      },
      "source": [
        "df1 = df[[\"status\",\"card_present_flag\",\"balance\",\"date\",'first_name',\n",
        "          'country','merchant_long_lat',\n",
        "                   \"gender\",\"age\",\"merchant_suburb\",\"merchant_state\",\n",
        "                   \"amount\",\"customer_id\",\"movement\"]]\n",
        "df1[\"date\"] = pd.to_datetime(df1[\"date\"])\n",
        "df1.head()"
      ],
      "execution_count": 68,
      "outputs": [
        {
          "output_type": "stream",
          "text": [
            "/usr/local/lib/python3.6/dist-packages/ipykernel_launcher.py:5: SettingWithCopyWarning: \n",
            "A value is trying to be set on a copy of a slice from a DataFrame.\n",
            "Try using .loc[row_indexer,col_indexer] = value instead\n",
            "\n",
            "See the caveats in the documentation: https://pandas.pydata.org/pandas-docs/stable/user_guide/indexing.html#returning-a-view-versus-a-copy\n",
            "  \"\"\"\n"
          ],
          "name": "stderr"
        },
        {
          "output_type": "execute_result",
          "data": {
            "text/html": [
              "<div>\n",
              "<style scoped>\n",
              "    .dataframe tbody tr th:only-of-type {\n",
              "        vertical-align: middle;\n",
              "    }\n",
              "\n",
              "    .dataframe tbody tr th {\n",
              "        vertical-align: top;\n",
              "    }\n",
              "\n",
              "    .dataframe thead th {\n",
              "        text-align: right;\n",
              "    }\n",
              "</style>\n",
              "<table border=\"1\" class=\"dataframe\">\n",
              "  <thead>\n",
              "    <tr style=\"text-align: right;\">\n",
              "      <th></th>\n",
              "      <th>status</th>\n",
              "      <th>card_present_flag</th>\n",
              "      <th>balance</th>\n",
              "      <th>date</th>\n",
              "      <th>first_name</th>\n",
              "      <th>country</th>\n",
              "      <th>merchant_long_lat</th>\n",
              "      <th>gender</th>\n",
              "      <th>age</th>\n",
              "      <th>merchant_suburb</th>\n",
              "      <th>merchant_state</th>\n",
              "      <th>amount</th>\n",
              "      <th>customer_id</th>\n",
              "      <th>movement</th>\n",
              "    </tr>\n",
              "  </thead>\n",
              "  <tbody>\n",
              "    <tr>\n",
              "      <th>0</th>\n",
              "      <td>authorized</td>\n",
              "      <td>1.0</td>\n",
              "      <td>35.39</td>\n",
              "      <td>2018-08-01</td>\n",
              "      <td>Diana</td>\n",
              "      <td>Australia</td>\n",
              "      <td>153.38 -27.99</td>\n",
              "      <td>F</td>\n",
              "      <td>26</td>\n",
              "      <td>Ashmore</td>\n",
              "      <td>QLD</td>\n",
              "      <td>16.25</td>\n",
              "      <td>CUS-2487424745</td>\n",
              "      <td>debit</td>\n",
              "    </tr>\n",
              "    <tr>\n",
              "      <th>1</th>\n",
              "      <td>authorized</td>\n",
              "      <td>0.0</td>\n",
              "      <td>21.20</td>\n",
              "      <td>2018-08-01</td>\n",
              "      <td>Diana</td>\n",
              "      <td>Australia</td>\n",
              "      <td>151.21 -33.87</td>\n",
              "      <td>F</td>\n",
              "      <td>26</td>\n",
              "      <td>Sydney</td>\n",
              "      <td>NSW</td>\n",
              "      <td>14.19</td>\n",
              "      <td>CUS-2487424745</td>\n",
              "      <td>debit</td>\n",
              "    </tr>\n",
              "    <tr>\n",
              "      <th>2</th>\n",
              "      <td>authorized</td>\n",
              "      <td>1.0</td>\n",
              "      <td>5.71</td>\n",
              "      <td>2018-08-01</td>\n",
              "      <td>Michael</td>\n",
              "      <td>Australia</td>\n",
              "      <td>151.21 -33.87</td>\n",
              "      <td>M</td>\n",
              "      <td>38</td>\n",
              "      <td>Sydney</td>\n",
              "      <td>NSW</td>\n",
              "      <td>6.42</td>\n",
              "      <td>CUS-2142601169</td>\n",
              "      <td>debit</td>\n",
              "    </tr>\n",
              "    <tr>\n",
              "      <th>3</th>\n",
              "      <td>authorized</td>\n",
              "      <td>1.0</td>\n",
              "      <td>2117.22</td>\n",
              "      <td>2018-08-01</td>\n",
              "      <td>Rhonda</td>\n",
              "      <td>Australia</td>\n",
              "      <td>153.05 -26.68</td>\n",
              "      <td>F</td>\n",
              "      <td>40</td>\n",
              "      <td>Buderim</td>\n",
              "      <td>QLD</td>\n",
              "      <td>40.90</td>\n",
              "      <td>CUS-1614226872</td>\n",
              "      <td>debit</td>\n",
              "    </tr>\n",
              "    <tr>\n",
              "      <th>4</th>\n",
              "      <td>authorized</td>\n",
              "      <td>1.0</td>\n",
              "      <td>17.95</td>\n",
              "      <td>2018-08-01</td>\n",
              "      <td>Diana</td>\n",
              "      <td>Australia</td>\n",
              "      <td>153.44 -28.06</td>\n",
              "      <td>F</td>\n",
              "      <td>26</td>\n",
              "      <td>Mermaid Beach</td>\n",
              "      <td>QLD</td>\n",
              "      <td>3.25</td>\n",
              "      <td>CUS-2487424745</td>\n",
              "      <td>debit</td>\n",
              "    </tr>\n",
              "  </tbody>\n",
              "</table>\n",
              "</div>"
            ],
            "text/plain": [
              "       status  card_present_flag  balance  ... amount     customer_id movement\n",
              "0  authorized                1.0    35.39  ...  16.25  CUS-2487424745    debit\n",
              "1  authorized                0.0    21.20  ...  14.19  CUS-2487424745    debit\n",
              "2  authorized                1.0     5.71  ...   6.42  CUS-2142601169    debit\n",
              "3  authorized                1.0  2117.22  ...  40.90  CUS-1614226872    debit\n",
              "4  authorized                1.0    17.95  ...   3.25  CUS-2487424745    debit\n",
              "\n",
              "[5 rows x 14 columns]"
            ]
          },
          "metadata": {
            "tags": []
          },
          "execution_count": 68
        }
      ]
    },
    {
      "cell_type": "markdown",
      "metadata": {
        "id": "7N0qWPc8Fhhr"
      },
      "source": [
        "split merchant_long_lat into longitutde and latitude"
      ]
    },
    {
      "cell_type": "code",
      "metadata": {
        "id": "00fNU0x9FoPV",
        "outputId": "6614b6ca-b5b5-49aa-ccec-c30d77f93a99",
        "colab": {
          "base_uri": "https://localhost:8080/"
        }
      },
      "source": [
        "df1['longitude'], df1['latitude'] = df1['merchant_long_lat'].str.split(' ',1).str"
      ],
      "execution_count": 69,
      "outputs": [
        {
          "output_type": "stream",
          "text": [
            "/usr/local/lib/python3.6/dist-packages/ipykernel_launcher.py:1: FutureWarning: Columnar iteration over characters will be deprecated in future releases.\n",
            "  \"\"\"Entry point for launching an IPython kernel.\n",
            "/usr/local/lib/python3.6/dist-packages/ipykernel_launcher.py:1: SettingWithCopyWarning: \n",
            "A value is trying to be set on a copy of a slice from a DataFrame.\n",
            "Try using .loc[row_indexer,col_indexer] = value instead\n",
            "\n",
            "See the caveats in the documentation: https://pandas.pydata.org/pandas-docs/stable/user_guide/indexing.html#returning-a-view-versus-a-copy\n",
            "  \"\"\"Entry point for launching an IPython kernel.\n"
          ],
          "name": "stderr"
        }
      ]
    },
    {
      "cell_type": "code",
      "metadata": {
        "id": "BREMr_qvmeX5",
        "outputId": "d79c901b-7344-4e29-b7eb-7c759ea8e05f",
        "colab": {
          "base_uri": "https://localhost:8080/"
        }
      },
      "source": [
        "df1['weekday'] = df1['date'].dt.day_name()"
      ],
      "execution_count": 70,
      "outputs": [
        {
          "output_type": "stream",
          "text": [
            "/usr/local/lib/python3.6/dist-packages/ipykernel_launcher.py:1: SettingWithCopyWarning: \n",
            "A value is trying to be set on a copy of a slice from a DataFrame.\n",
            "Try using .loc[row_indexer,col_indexer] = value instead\n",
            "\n",
            "See the caveats in the documentation: https://pandas.pydata.org/pandas-docs/stable/user_guide/indexing.html#returning-a-view-versus-a-copy\n",
            "  \"\"\"Entry point for launching an IPython kernel.\n"
          ],
          "name": "stderr"
        }
      ]
    },
    {
      "cell_type": "code",
      "metadata": {
        "id": "QdQgdJ4rmpei",
        "outputId": "98599d37-acb4-4fb6-b985-2e2e292cd119",
        "colab": {
          "base_uri": "https://localhost:8080/"
        }
      },
      "source": [
        "df1['month'] = df1['date'].dt.month_name()"
      ],
      "execution_count": 71,
      "outputs": [
        {
          "output_type": "stream",
          "text": [
            "/usr/local/lib/python3.6/dist-packages/ipykernel_launcher.py:1: SettingWithCopyWarning: \n",
            "A value is trying to be set on a copy of a slice from a DataFrame.\n",
            "Try using .loc[row_indexer,col_indexer] = value instead\n",
            "\n",
            "See the caveats in the documentation: https://pandas.pydata.org/pandas-docs/stable/user_guide/indexing.html#returning-a-view-versus-a-copy\n",
            "  \"\"\"Entry point for launching an IPython kernel.\n"
          ],
          "name": "stderr"
        }
      ]
    },
    {
      "cell_type": "code",
      "metadata": {
        "id": "3F2NAzFOcQYl",
        "outputId": "c419ad3a-2a45-4b42-a50e-adbefcdb6593",
        "colab": {
          "base_uri": "https://localhost:8080/",
          "height": 52
        }
      },
      "source": [
        "# another way to get month\n",
        "'''\n",
        "months = []\n",
        "for date in df1[\"date\"]:\n",
        "    if date.month == 8:\n",
        "        months.append(\"August\")\n",
        "    elif date.month == 9:\n",
        "        months.append(\"September\")\n",
        "    elif date.month == 10:\n",
        "        months.append(\"October\")\n",
        "\n",
        "df1[\"Months\"] = months\n",
        "'''"
      ],
      "execution_count": 72,
      "outputs": [
        {
          "output_type": "execute_result",
          "data": {
            "application/vnd.google.colaboratory.intrinsic+json": {
              "type": "string"
            },
            "text/plain": [
              "'\\nmonths = []\\nfor date in df1[\"date\"]:\\n    if date.month == 8:\\n        months.append(\"August\")\\n    elif date.month == 9:\\n        months.append(\"September\")\\n    elif date.month == 10:\\n        months.append(\"October\")\\n\\ndf1[\"Months\"] = months\\n'"
            ]
          },
          "metadata": {
            "tags": []
          },
          "execution_count": 72
        }
      ]
    },
    {
      "cell_type": "code",
      "metadata": {
        "id": "AAFCtDiHGPZS",
        "outputId": "5c9d9f4d-41fc-4b13-a635-a875b82a7ad0",
        "colab": {
          "base_uri": "https://localhost:8080/",
          "height": 117
        }
      },
      "source": [
        "df1.head(1)"
      ],
      "execution_count": 73,
      "outputs": [
        {
          "output_type": "execute_result",
          "data": {
            "text/html": [
              "<div>\n",
              "<style scoped>\n",
              "    .dataframe tbody tr th:only-of-type {\n",
              "        vertical-align: middle;\n",
              "    }\n",
              "\n",
              "    .dataframe tbody tr th {\n",
              "        vertical-align: top;\n",
              "    }\n",
              "\n",
              "    .dataframe thead th {\n",
              "        text-align: right;\n",
              "    }\n",
              "</style>\n",
              "<table border=\"1\" class=\"dataframe\">\n",
              "  <thead>\n",
              "    <tr style=\"text-align: right;\">\n",
              "      <th></th>\n",
              "      <th>status</th>\n",
              "      <th>card_present_flag</th>\n",
              "      <th>balance</th>\n",
              "      <th>date</th>\n",
              "      <th>first_name</th>\n",
              "      <th>country</th>\n",
              "      <th>merchant_long_lat</th>\n",
              "      <th>gender</th>\n",
              "      <th>age</th>\n",
              "      <th>merchant_suburb</th>\n",
              "      <th>merchant_state</th>\n",
              "      <th>amount</th>\n",
              "      <th>customer_id</th>\n",
              "      <th>movement</th>\n",
              "      <th>longitude</th>\n",
              "      <th>latitude</th>\n",
              "      <th>weekday</th>\n",
              "      <th>month</th>\n",
              "    </tr>\n",
              "  </thead>\n",
              "  <tbody>\n",
              "    <tr>\n",
              "      <th>0</th>\n",
              "      <td>authorized</td>\n",
              "      <td>1.0</td>\n",
              "      <td>35.39</td>\n",
              "      <td>2018-08-01</td>\n",
              "      <td>Diana</td>\n",
              "      <td>Australia</td>\n",
              "      <td>153.38 -27.99</td>\n",
              "      <td>F</td>\n",
              "      <td>26</td>\n",
              "      <td>Ashmore</td>\n",
              "      <td>QLD</td>\n",
              "      <td>16.25</td>\n",
              "      <td>CUS-2487424745</td>\n",
              "      <td>debit</td>\n",
              "      <td>153.38</td>\n",
              "      <td>-27.99</td>\n",
              "      <td>Wednesday</td>\n",
              "      <td>August</td>\n",
              "    </tr>\n",
              "  </tbody>\n",
              "</table>\n",
              "</div>"
            ],
            "text/plain": [
              "       status  card_present_flag  balance  ... latitude    weekday   month\n",
              "0  authorized                1.0    35.39  ...   -27.99  Wednesday  August\n",
              "\n",
              "[1 rows x 18 columns]"
            ]
          },
          "metadata": {
            "tags": []
          },
          "execution_count": 73
        }
      ]
    },
    {
      "cell_type": "markdown",
      "metadata": {
        "id": "Wo4HwNz8lzbQ"
      },
      "source": [
        "## Outliers"
      ]
    },
    {
      "cell_type": "code",
      "metadata": {
        "id": "ofP8SW2Umffe",
        "outputId": "2d2de312-7b66-40fc-944b-62dfad1d6a13",
        "colab": {
          "base_uri": "https://localhost:8080/",
          "height": 297
        }
      },
      "source": [
        "df1.describe()"
      ],
      "execution_count": 74,
      "outputs": [
        {
          "output_type": "execute_result",
          "data": {
            "text/html": [
              "<div>\n",
              "<style scoped>\n",
              "    .dataframe tbody tr th:only-of-type {\n",
              "        vertical-align: middle;\n",
              "    }\n",
              "\n",
              "    .dataframe tbody tr th {\n",
              "        vertical-align: top;\n",
              "    }\n",
              "\n",
              "    .dataframe thead th {\n",
              "        text-align: right;\n",
              "    }\n",
              "</style>\n",
              "<table border=\"1\" class=\"dataframe\">\n",
              "  <thead>\n",
              "    <tr style=\"text-align: right;\">\n",
              "      <th></th>\n",
              "      <th>card_present_flag</th>\n",
              "      <th>balance</th>\n",
              "      <th>age</th>\n",
              "      <th>amount</th>\n",
              "    </tr>\n",
              "  </thead>\n",
              "  <tbody>\n",
              "    <tr>\n",
              "      <th>count</th>\n",
              "      <td>7717.000000</td>\n",
              "      <td>7717.000000</td>\n",
              "      <td>7717.000000</td>\n",
              "      <td>7717.000000</td>\n",
              "    </tr>\n",
              "    <tr>\n",
              "      <th>mean</th>\n",
              "      <td>0.802644</td>\n",
              "      <td>11871.056585</td>\n",
              "      <td>30.052093</td>\n",
              "      <td>40.153732</td>\n",
              "    </tr>\n",
              "    <tr>\n",
              "      <th>std</th>\n",
              "      <td>0.398029</td>\n",
              "      <td>25999.398243</td>\n",
              "      <td>9.439454</td>\n",
              "      <td>149.833070</td>\n",
              "    </tr>\n",
              "    <tr>\n",
              "      <th>min</th>\n",
              "      <td>0.000000</td>\n",
              "      <td>0.240000</td>\n",
              "      <td>18.000000</td>\n",
              "      <td>0.100000</td>\n",
              "    </tr>\n",
              "    <tr>\n",
              "      <th>25%</th>\n",
              "      <td>1.000000</td>\n",
              "      <td>2723.890000</td>\n",
              "      <td>23.000000</td>\n",
              "      <td>12.080000</td>\n",
              "    </tr>\n",
              "    <tr>\n",
              "      <th>50%</th>\n",
              "      <td>1.000000</td>\n",
              "      <td>5286.040000</td>\n",
              "      <td>27.000000</td>\n",
              "      <td>19.700000</td>\n",
              "    </tr>\n",
              "    <tr>\n",
              "      <th>75%</th>\n",
              "      <td>1.000000</td>\n",
              "      <td>10278.290000</td>\n",
              "      <td>38.000000</td>\n",
              "      <td>33.910000</td>\n",
              "    </tr>\n",
              "    <tr>\n",
              "      <th>max</th>\n",
              "      <td>1.000000</td>\n",
              "      <td>267093.660000</td>\n",
              "      <td>78.000000</td>\n",
              "      <td>7081.090000</td>\n",
              "    </tr>\n",
              "  </tbody>\n",
              "</table>\n",
              "</div>"
            ],
            "text/plain": [
              "       card_present_flag        balance          age       amount\n",
              "count        7717.000000    7717.000000  7717.000000  7717.000000\n",
              "mean            0.802644   11871.056585    30.052093    40.153732\n",
              "std             0.398029   25999.398243     9.439454   149.833070\n",
              "min             0.000000       0.240000    18.000000     0.100000\n",
              "25%             1.000000    2723.890000    23.000000    12.080000\n",
              "50%             1.000000    5286.040000    27.000000    19.700000\n",
              "75%             1.000000   10278.290000    38.000000    33.910000\n",
              "max             1.000000  267093.660000    78.000000  7081.090000"
            ]
          },
          "metadata": {
            "tags": []
          },
          "execution_count": 74
        }
      ]
    },
    {
      "cell_type": "markdown",
      "metadata": {
        "id": "WzZYXROWrwBF"
      },
      "source": [
        "Trim Outliers"
      ]
    },
    {
      "cell_type": "code",
      "metadata": {
        "id": "ftud9mBHru9N"
      },
      "source": [
        "#Trim outliers:\n",
        "starting_percentile = df1['amount'].quantile(.02)\n",
        "ending_percentile = df1['amount'].quantile(.98)\n",
        "price_outliers_df = df1.loc[((df1['amount'] <= starting_percentile) | (df1['amount'] >= ending_percentile))]\n",
        "df1 = df1.loc[((df1['amount'] > starting_percentile) & (df1['amount'] < ending_percentile))]"
      ],
      "execution_count": 75,
      "outputs": []
    },
    {
      "cell_type": "markdown",
      "metadata": {
        "id": "Z_tgXZIj9FOq"
      },
      "source": [
        "Amount"
      ]
    },
    {
      "cell_type": "code",
      "metadata": {
        "id": "Vt3qefLWmmo7",
        "outputId": "3a4584b0-91ad-4f95-b726-c116ae15c03d",
        "colab": {
          "base_uri": "https://localhost:8080/",
          "height": 401
        }
      },
      "source": [
        "plt.boxplot(df1['amount'])"
      ],
      "execution_count": 76,
      "outputs": [
        {
          "output_type": "execute_result",
          "data": {
            "text/plain": [
              "{'boxes': [<matplotlib.lines.Line2D at 0x7f547f5c0390>],\n",
              " 'caps': [<matplotlib.lines.Line2D at 0x7f547f5c0da0>,\n",
              "  <matplotlib.lines.Line2D at 0x7f547f48d160>],\n",
              " 'fliers': [<matplotlib.lines.Line2D at 0x7f547f48d860>],\n",
              " 'means': [],\n",
              " 'medians': [<matplotlib.lines.Line2D at 0x7f547f48d4e0>],\n",
              " 'whiskers': [<matplotlib.lines.Line2D at 0x7f547f5c06a0>,\n",
              "  <matplotlib.lines.Line2D at 0x7f547f5c0a20>]}"
            ]
          },
          "metadata": {
            "tags": []
          },
          "execution_count": 76
        },
        {
          "output_type": "display_data",
          "data": {
            "image/png": "[encoded data removed]",
            "text/plain": [
              "<Figure size 432x288 with 1 Axes>"
            ]
          },
          "metadata": {
            "tags": [],
            "needs_background": "light"
          }
        }
      ]
    },
    {
      "cell_type": "code",
      "metadata": {
        "id": "AHfcaH7Gnyz_",
        "outputId": "a101d81f-1543-40a4-af6f-30a246da31ce",
        "colab": {
          "base_uri": "https://localhost:8080/",
          "height": 282
        }
      },
      "source": [
        "plt.scatter(x='date', y='amount', data=df1)"
      ],
      "execution_count": 77,
      "outputs": [
        {
          "output_type": "execute_result",
          "data": {
            "text/plain": [
              "<matplotlib.collections.PathCollection at 0x7f547f4d6550>"
            ]
          },
          "metadata": {
            "tags": []
          },
          "execution_count": 77
        },
        {
          "output_type": "display_data",
          "data": {
            "image/png": "[encoded data removed]",
            "text/plain": [
              "<Figure size 432x288 with 1 Axes>"
            ]
          },
          "metadata": {
            "tags": [],
            "needs_background": "light"
          }
        }
      ]
    },
    {
      "cell_type": "markdown",
      "metadata": {
        "id": "uKy6y0mqqtrm"
      },
      "source": [
        "Balance"
      ]
    },
    {
      "cell_type": "code",
      "metadata": {
        "id": "c-BAxq1jqvjk",
        "outputId": "aa39ed60-c311-4b24-c73d-ffa4849d556e",
        "colab": {
          "base_uri": "https://localhost:8080/",
          "height": 401
        }
      },
      "source": [
        "plt.boxplot(df1['balance'])"
      ],
      "execution_count": 78,
      "outputs": [
        {
          "output_type": "execute_result",
          "data": {
            "text/plain": [
              "{'boxes': [<matplotlib.lines.Line2D at 0x7f547f339908>],\n",
              " 'caps': [<matplotlib.lines.Line2D at 0x7f547f347358>,\n",
              "  <matplotlib.lines.Line2D at 0x7f547f3476d8>],\n",
              " 'fliers': [<matplotlib.lines.Line2D at 0x7f547f347dd8>],\n",
              " 'means': [],\n",
              " 'medians': [<matplotlib.lines.Line2D at 0x7f547f347a58>],\n",
              " 'whiskers': [<matplotlib.lines.Line2D at 0x7f547f339c18>,\n",
              "  <matplotlib.lines.Line2D at 0x7f547f339f98>]}"
            ]
          },
          "metadata": {
            "tags": []
          },
          "execution_count": 78
        },
        {
          "output_type": "display_data",
          "data": {
            "image/png": "[encoded data removed]",
            "text/plain": [
              "<Figure size 432x288 with 1 Axes>"
            ]
          },
          "metadata": {
            "tags": [],
            "needs_background": "light"
          }
        }
      ]
    },
    {
      "cell_type": "code",
      "metadata": {
        "id": "9jb3awhfHydi"
      },
      "source": [
        "df1.to_csv('ANZ_clean.csv', index=False)"
      ],
      "execution_count": 79,
      "outputs": []
    },
    {
      "cell_type": "markdown",
      "metadata": {
        "id": "D42YClEhHJvz"
      },
      "source": [
        "## Exploratory Data Analysis"
      ]
    },
    {
      "cell_type": "code",
      "metadata": {
        "id": "Ul4ielH-c4aK",
        "outputId": "cd76c1c0-7830-42d9-9c6d-bfd6a273e397",
        "colab": {
          "base_uri": "https://localhost:8080/"
        }
      },
      "source": [
        "df1['status'].value_counts()"
      ],
      "execution_count": 80,
      "outputs": [
        {
          "output_type": "execute_result",
          "data": {
            "text/plain": [
              "authorized    7407\n",
              "Name: status, dtype: int64"
            ]
          },
          "metadata": {
            "tags": []
          },
          "execution_count": 80
        }
      ]
    },
    {
      "cell_type": "code",
      "metadata": {
        "id": "rDw_8ntsgw3Q",
        "outputId": "7382b43b-4b9c-4eb0-a73a-2a9aa4a88ff9",
        "colab": {
          "base_uri": "https://localhost:8080/"
        }
      },
      "source": [
        "# someone has more than 1 account because there are 100 unique acounts\n",
        "df1['first_name'].nunique()"
      ],
      "execution_count": 81,
      "outputs": [
        {
          "output_type": "execute_result",
          "data": {
            "text/plain": [
              "80"
            ]
          },
          "metadata": {
            "tags": []
          },
          "execution_count": 81
        }
      ]
    },
    {
      "cell_type": "code",
      "metadata": {
        "id": "xYc9yByNjQQL",
        "outputId": "349c4ff1-d997-479e-bfc1-f192ad548b84",
        "colab": {
          "base_uri": "https://localhost:8080/"
        }
      },
      "source": [
        "df1['country'].value_counts()"
      ],
      "execution_count": 82,
      "outputs": [
        {
          "output_type": "execute_result",
          "data": {
            "text/plain": [
              "Australia    7407\n",
              "Name: country, dtype: int64"
            ]
          },
          "metadata": {
            "tags": []
          },
          "execution_count": 82
        }
      ]
    },
    {
      "cell_type": "code",
      "metadata": {
        "id": "lssIX2t2ji85",
        "outputId": "86a465f9-2784-4756-95ba-876055603487",
        "colab": {
          "base_uri": "https://localhost:8080/"
        }
      },
      "source": [
        "df1['customer_id'].nunique() #account id????"
      ],
      "execution_count": 83,
      "outputs": [
        {
          "output_type": "execute_result",
          "data": {
            "text/plain": [
              "100"
            ]
          },
          "metadata": {
            "tags": []
          },
          "execution_count": 83
        }
      ]
    },
    {
      "cell_type": "code",
      "metadata": {
        "id": "rik6NFP4jndR",
        "outputId": "31b10bda-f5cd-4652-a660-9f412ae6ea1f",
        "colab": {
          "base_uri": "https://localhost:8080/",
          "height": 309
        }
      },
      "source": [
        "df1.head()"
      ],
      "execution_count": 84,
      "outputs": [
        {
          "output_type": "execute_result",
          "data": {
            "text/html": [
              "<div>\n",
              "<style scoped>\n",
              "    .dataframe tbody tr th:only-of-type {\n",
              "        vertical-align: middle;\n",
              "    }\n",
              "\n",
              "    .dataframe tbody tr th {\n",
              "        vertical-align: top;\n",
              "    }\n",
              "\n",
              "    .dataframe thead th {\n",
              "        text-align: right;\n",
              "    }\n",
              "</style>\n",
              "<table border=\"1\" class=\"dataframe\">\n",
              "  <thead>\n",
              "    <tr style=\"text-align: right;\">\n",
              "      <th></th>\n",
              "      <th>status</th>\n",
              "      <th>card_present_flag</th>\n",
              "      <th>balance</th>\n",
              "      <th>date</th>\n",
              "      <th>first_name</th>\n",
              "      <th>country</th>\n",
              "      <th>merchant_long_lat</th>\n",
              "      <th>gender</th>\n",
              "      <th>age</th>\n",
              "      <th>merchant_suburb</th>\n",
              "      <th>merchant_state</th>\n",
              "      <th>amount</th>\n",
              "      <th>customer_id</th>\n",
              "      <th>movement</th>\n",
              "      <th>longitude</th>\n",
              "      <th>latitude</th>\n",
              "      <th>weekday</th>\n",
              "      <th>month</th>\n",
              "    </tr>\n",
              "  </thead>\n",
              "  <tbody>\n",
              "    <tr>\n",
              "      <th>0</th>\n",
              "      <td>authorized</td>\n",
              "      <td>1.0</td>\n",
              "      <td>35.39</td>\n",
              "      <td>2018-08-01</td>\n",
              "      <td>Diana</td>\n",
              "      <td>Australia</td>\n",
              "      <td>153.38 -27.99</td>\n",
              "      <td>F</td>\n",
              "      <td>26</td>\n",
              "      <td>Ashmore</td>\n",
              "      <td>QLD</td>\n",
              "      <td>16.25</td>\n",
              "      <td>CUS-2487424745</td>\n",
              "      <td>debit</td>\n",
              "      <td>153.38</td>\n",
              "      <td>-27.99</td>\n",
              "      <td>Wednesday</td>\n",
              "      <td>August</td>\n",
              "    </tr>\n",
              "    <tr>\n",
              "      <th>1</th>\n",
              "      <td>authorized</td>\n",
              "      <td>0.0</td>\n",
              "      <td>21.20</td>\n",
              "      <td>2018-08-01</td>\n",
              "      <td>Diana</td>\n",
              "      <td>Australia</td>\n",
              "      <td>151.21 -33.87</td>\n",
              "      <td>F</td>\n",
              "      <td>26</td>\n",
              "      <td>Sydney</td>\n",
              "      <td>NSW</td>\n",
              "      <td>14.19</td>\n",
              "      <td>CUS-2487424745</td>\n",
              "      <td>debit</td>\n",
              "      <td>151.21</td>\n",
              "      <td>-33.87</td>\n",
              "      <td>Wednesday</td>\n",
              "      <td>August</td>\n",
              "    </tr>\n",
              "    <tr>\n",
              "      <th>2</th>\n",
              "      <td>authorized</td>\n",
              "      <td>1.0</td>\n",
              "      <td>5.71</td>\n",
              "      <td>2018-08-01</td>\n",
              "      <td>Michael</td>\n",
              "      <td>Australia</td>\n",
              "      <td>151.21 -33.87</td>\n",
              "      <td>M</td>\n",
              "      <td>38</td>\n",
              "      <td>Sydney</td>\n",
              "      <td>NSW</td>\n",
              "      <td>6.42</td>\n",
              "      <td>CUS-2142601169</td>\n",
              "      <td>debit</td>\n",
              "      <td>151.21</td>\n",
              "      <td>-33.87</td>\n",
              "      <td>Wednesday</td>\n",
              "      <td>August</td>\n",
              "    </tr>\n",
              "    <tr>\n",
              "      <th>3</th>\n",
              "      <td>authorized</td>\n",
              "      <td>1.0</td>\n",
              "      <td>2117.22</td>\n",
              "      <td>2018-08-01</td>\n",
              "      <td>Rhonda</td>\n",
              "      <td>Australia</td>\n",
              "      <td>153.05 -26.68</td>\n",
              "      <td>F</td>\n",
              "      <td>40</td>\n",
              "      <td>Buderim</td>\n",
              "      <td>QLD</td>\n",
              "      <td>40.90</td>\n",
              "      <td>CUS-1614226872</td>\n",
              "      <td>debit</td>\n",
              "      <td>153.05</td>\n",
              "      <td>-26.68</td>\n",
              "      <td>Wednesday</td>\n",
              "      <td>August</td>\n",
              "    </tr>\n",
              "    <tr>\n",
              "      <th>6</th>\n",
              "      <td>authorized</td>\n",
              "      <td>1.0</td>\n",
              "      <td>1248.36</td>\n",
              "      <td>2018-08-01</td>\n",
              "      <td>Kristin</td>\n",
              "      <td>Australia</td>\n",
              "      <td>144.95 -37.53</td>\n",
              "      <td>F</td>\n",
              "      <td>43</td>\n",
              "      <td>Kalkallo</td>\n",
              "      <td>VIC</td>\n",
              "      <td>61.06</td>\n",
              "      <td>CUS-4123612273</td>\n",
              "      <td>debit</td>\n",
              "      <td>144.95</td>\n",
              "      <td>-37.53</td>\n",
              "      <td>Wednesday</td>\n",
              "      <td>August</td>\n",
              "    </tr>\n",
              "  </tbody>\n",
              "</table>\n",
              "</div>"
            ],
            "text/plain": [
              "       status  card_present_flag  balance  ... latitude    weekday   month\n",
              "0  authorized                1.0    35.39  ...   -27.99  Wednesday  August\n",
              "1  authorized                0.0    21.20  ...   -33.87  Wednesday  August\n",
              "2  authorized                1.0     5.71  ...   -33.87  Wednesday  August\n",
              "3  authorized                1.0  2117.22  ...   -26.68  Wednesday  August\n",
              "6  authorized                1.0  1248.36  ...   -37.53  Wednesday  August\n",
              "\n",
              "[5 rows x 18 columns]"
            ]
          },
          "metadata": {
            "tags": []
          },
          "execution_count": 84
        }
      ]
    },
    {
      "cell_type": "code",
      "metadata": {
        "id": "fJgMjYd1Lryd",
        "outputId": "444dbbb9-a3cc-4895-ce24-697a5dd1e5a2",
        "colab": {
          "base_uri": "https://localhost:8080/"
        }
      },
      "source": [
        "df1.info()"
      ],
      "execution_count": 85,
      "outputs": [
        {
          "output_type": "stream",
          "text": [
            "<class 'pandas.core.frame.DataFrame'>\n",
            "Int64Index: 7407 entries, 0 to 12042\n",
            "Data columns (total 18 columns):\n",
            " #   Column             Non-Null Count  Dtype         \n",
            "---  ------             --------------  -----         \n",
            " 0   status             7407 non-null   object        \n",
            " 1   card_present_flag  7407 non-null   float64       \n",
            " 2   balance            7407 non-null   float64       \n",
            " 3   date               7407 non-null   datetime64[ns]\n",
            " 4   first_name         7407 non-null   object        \n",
            " 5   country            7407 non-null   object        \n",
            " 6   merchant_long_lat  7407 non-null   object        \n",
            " 7   gender             7407 non-null   object        \n",
            " 8   age                7407 non-null   int64         \n",
            " 9   merchant_suburb    7407 non-null   object        \n",
            " 10  merchant_state     7407 non-null   object        \n",
            " 11  amount             7407 non-null   float64       \n",
            " 12  customer_id        7407 non-null   object        \n",
            " 13  movement           7407 non-null   object        \n",
            " 14  longitude          7407 non-null   object        \n",
            " 15  latitude           7407 non-null   object        \n",
            " 16  weekday            7407 non-null   object        \n",
            " 17  month              7407 non-null   object        \n",
            "dtypes: datetime64[ns](1), float64(3), int64(1), object(13)\n",
            "memory usage: 1.1+ MB\n"
          ],
          "name": "stdout"
        }
      ]
    },
    {
      "cell_type": "markdown",
      "metadata": {
        "id": "NU9S3UP_HgJc"
      },
      "source": [
        "<strong>What's average amount each date?</strong>"
      ]
    },
    {
      "cell_type": "code",
      "metadata": {
        "id": "yt7rPQTKMtwa",
        "outputId": "2e287cfb-9d3d-44bb-c37b-cb76366ef12c",
        "colab": {
          "base_uri": "https://localhost:8080/",
          "height": 69
        }
      },
      "source": [
        "df1[df1['first_name'].index.duplicated()]"
      ],
      "execution_count": 86,
      "outputs": [
        {
          "output_type": "execute_result",
          "data": {
            "text/html": [
              "<div>\n",
              "<style scoped>\n",
              "    .dataframe tbody tr th:only-of-type {\n",
              "        vertical-align: middle;\n",
              "    }\n",
              "\n",
              "    .dataframe tbody tr th {\n",
              "        vertical-align: top;\n",
              "    }\n",
              "\n",
              "    .dataframe thead th {\n",
              "        text-align: right;\n",
              "    }\n",
              "</style>\n",
              "<table border=\"1\" class=\"dataframe\">\n",
              "  <thead>\n",
              "    <tr style=\"text-align: right;\">\n",
              "      <th></th>\n",
              "      <th>status</th>\n",
              "      <th>card_present_flag</th>\n",
              "      <th>balance</th>\n",
              "      <th>date</th>\n",
              "      <th>first_name</th>\n",
              "      <th>country</th>\n",
              "      <th>merchant_long_lat</th>\n",
              "      <th>gender</th>\n",
              "      <th>age</th>\n",
              "      <th>merchant_suburb</th>\n",
              "      <th>merchant_state</th>\n",
              "      <th>amount</th>\n",
              "      <th>customer_id</th>\n",
              "      <th>movement</th>\n",
              "      <th>longitude</th>\n",
              "      <th>latitude</th>\n",
              "      <th>weekday</th>\n",
              "      <th>month</th>\n",
              "    </tr>\n",
              "  </thead>\n",
              "  <tbody>\n",
              "  </tbody>\n",
              "</table>\n",
              "</div>"
            ],
            "text/plain": [
              "Empty DataFrame\n",
              "Columns: [status, card_present_flag, balance, date, first_name, country, merchant_long_lat, gender, age, merchant_suburb, merchant_state, amount, customer_id, movement, longitude, latitude, weekday, month]\n",
              "Index: []"
            ]
          },
          "metadata": {
            "tags": []
          },
          "execution_count": 86
        }
      ]
    },
    {
      "cell_type": "code",
      "metadata": {
        "id": "NjGNNeTbP_4O"
      },
      "source": [
        "date_count = df1.groupby(by='date').mean()\n",
        "average_amount = date_count['amount'].mean()\n",
        "points = len(date_count.index)"
      ],
      "execution_count": 87,
      "outputs": []
    },
    {
      "cell_type": "code",
      "metadata": {
        "id": "wJKSCnUERJ0x",
        "outputId": "5cf88437-a67b-42a0-db31-6d492aec2ce7",
        "colab": {
          "base_uri": "https://localhost:8080/",
          "height": 441
        }
      },
      "source": [
        "plt.figure(figsize=(8,6))\n",
        "plt.plot(date_count.index, date_count['amount'], c='black', label = 'amount')\n",
        "plt.plot(date_count.index, np.linspace(average_amount,average_amount,points), c='r', label = 'Mean Transaction Volume')\n",
        "plt.title('Average Amount Daily')\n",
        "plt.legend()\n",
        "plt.xlabel('Date')\n",
        "plt.ylabel('Number of Customers')\n",
        "plt.tight_layout()"
      ],
      "execution_count": 88,
      "outputs": [
        {
          "output_type": "display_data",
          "data": {
            "image/png": "[encoded data removed]",
            "text/plain": [
              "<Figure size 576x432 with 1 Axes>"
            ]
          },
          "metadata": {
            "tags": [],
            "needs_background": "light"
          }
        }
      ]
    },
    {
      "cell_type": "markdown",
      "metadata": {
        "id": "ZIISieiAOJ97"
      },
      "source": [
        "<strong>What's the transaction volume daily?</strong>"
      ]
    },
    {
      "cell_type": "code",
      "metadata": {
        "id": "iwVCnr30IUNc"
      },
      "source": [
        "date_count = df1.groupby('date').count()\n",
        "volume = date_count['first_name'].mean()\n",
        "points = len(date_count.index)"
      ],
      "execution_count": 89,
      "outputs": []
    },
    {
      "cell_type": "code",
      "metadata": {
        "id": "EjRyp7stN4e0",
        "outputId": "cc0a75ca-d817-45ca-aa56-eed0d0c78b23",
        "colab": {
          "base_uri": "https://localhost:8080/",
          "height": 441
        }
      },
      "source": [
        "plt.figure(figsize=(8,6))\n",
        "plt.plot(date_count.index, date_count['first_name'], c='black', label = 'First Name')\n",
        "plt.plot(date_count.index, np.linspace(volume,volume,points), c='r', label = 'Mean Transaction Volume')\n",
        "plt.title('Transaction Volume For Each Customer Daily')\n",
        "plt.legend()\n",
        "plt.xlabel('Date')\n",
        "plt.ylabel('Number of Customers')\n",
        "plt.tight_layout()"
      ],
      "execution_count": 90,
      "outputs": [
        {
          "output_type": "display_data",
          "data": {
            "image/png": "[encoded data removed]",
            "text/plain": [
              "<Figure size 576x432 with 1 Axes>"
            ]
          },
          "metadata": {
            "tags": [],
            "needs_background": "light"
          }
        }
      ]
    },
    {
      "cell_type": "markdown",
      "metadata": {
        "id": "q97QYvRmXhwH"
      },
      "source": [
        "<strong>Average customer balance by age: male vs. female</strong>\n",
        "- August\n",
        "- September\n",
        "- October"
      ]
    },
    {
      "cell_type": "markdown",
      "metadata": {
        "id": "0hz1-WkfTuzX"
      },
      "source": [
        "August"
      ]
    },
    {
      "cell_type": "code",
      "metadata": {
        "id": "CD9A6BAqOuak"
      },
      "source": [
        "cus_aug = df1[df1[\"month\"] == \"August\"].groupby(\"customer_id\").mean()\n",
        "gen_aug = df1[df1[\"month\"] == \"August\"].groupby(\"gender\").mean()"
      ],
      "execution_count": 91,
      "outputs": []
    },
    {
      "cell_type": "code",
      "metadata": {
        "id": "SHOvDmGSdI8M",
        "outputId": "ef3a2f53-33a9-4c7d-d3ba-423233126d45",
        "colab": {
          "base_uri": "https://localhost:8080/",
          "height": 142
        }
      },
      "source": [
        "gen_aug"
      ],
      "execution_count": 92,
      "outputs": [
        {
          "output_type": "execute_result",
          "data": {
            "text/html": [
              "<div>\n",
              "<style scoped>\n",
              "    .dataframe tbody tr th:only-of-type {\n",
              "        vertical-align: middle;\n",
              "    }\n",
              "\n",
              "    .dataframe tbody tr th {\n",
              "        vertical-align: top;\n",
              "    }\n",
              "\n",
              "    .dataframe thead th {\n",
              "        text-align: right;\n",
              "    }\n",
              "</style>\n",
              "<table border=\"1\" class=\"dataframe\">\n",
              "  <thead>\n",
              "    <tr style=\"text-align: right;\">\n",
              "      <th></th>\n",
              "      <th>card_present_flag</th>\n",
              "      <th>balance</th>\n",
              "      <th>age</th>\n",
              "      <th>amount</th>\n",
              "    </tr>\n",
              "    <tr>\n",
              "      <th>gender</th>\n",
              "      <th></th>\n",
              "      <th></th>\n",
              "      <th></th>\n",
              "      <th></th>\n",
              "    </tr>\n",
              "  </thead>\n",
              "  <tbody>\n",
              "    <tr>\n",
              "      <th>F</th>\n",
              "      <td>0.819087</td>\n",
              "      <td>5522.643029</td>\n",
              "      <td>30.130290</td>\n",
              "      <td>25.890589</td>\n",
              "    </tr>\n",
              "    <tr>\n",
              "      <th>M</th>\n",
              "      <td>0.792562</td>\n",
              "      <td>10624.390661</td>\n",
              "      <td>29.749587</td>\n",
              "      <td>27.739132</td>\n",
              "    </tr>\n",
              "  </tbody>\n",
              "</table>\n",
              "</div>"
            ],
            "text/plain": [
              "        card_present_flag       balance        age     amount\n",
              "gender                                                       \n",
              "F                0.819087   5522.643029  30.130290  25.890589\n",
              "M                0.792562  10624.390661  29.749587  27.739132"
            ]
          },
          "metadata": {
            "tags": []
          },
          "execution_count": 92
        }
      ]
    },
    {
      "cell_type": "code",
      "metadata": {
        "id": "D2mbsfLtcGxG"
      },
      "source": [
        "mean_f_bal_aug = gen_aug[\"balance\"].iloc[0]\n",
        "mean_m_bal_aug = gen_aug[\"balance\"].iloc[1]\n",
        "n_points = len(cus_aug[\"age\"])"
      ],
      "execution_count": 93,
      "outputs": []
    },
    {
      "cell_type": "code",
      "metadata": {
        "id": "qAFUJLbtdL9v",
        "outputId": "30014392-6800-416d-c1af-3a294304dce7",
        "colab": {
          "base_uri": "https://localhost:8080/"
        }
      },
      "source": [
        "print(mean_f_bal_aug)\n",
        "print(mean_m_bal_aug)"
      ],
      "execution_count": 94,
      "outputs": [
        {
          "output_type": "stream",
          "text": [
            "5522.64302904564\n",
            "10624.390661157024\n"
          ],
          "name": "stdout"
        }
      ]
    },
    {
      "cell_type": "code",
      "metadata": {
        "id": "FbwnO0AQci5o",
        "outputId": "22315256-6446-468c-8207-d704dd2403e2",
        "colab": {
          "base_uri": "https://localhost:8080/",
          "height": 297
        }
      },
      "source": [
        "plt.scatter(cus_aug[\"age\"], cus_aug[\"balance\"], c=\"black\", label=\"Balance\")\n",
        "plt.plot(cus_aug[\"age\"], np.linspace(mean_f_bal_aug,mean_f_bal_aug,n_points), c=\"r\", label = \"Mean female balance\")\n",
        "plt.plot(cus_aug[\"age\"], np.linspace(mean_m_bal_aug,mean_m_bal_aug,n_points), c=\"b\", label = \"Mean male balance\")\n",
        "plt.title(\"ANZ Customer Balance vs. Age for August\")\n",
        "plt.xlabel(\"Age (years)\")\n",
        "plt.ylabel(\"Balance ($)\")\n",
        "plt.legend()\n",
        "plt.tight_layout()"
      ],
      "execution_count": 95,
      "outputs": [
        {
          "output_type": "display_data",
          "data": {
            "image/png": "[encoded data removed]",
            "text/plain": [
              "<Figure size 432x288 with 1 Axes>"
            ]
          },
          "metadata": {
            "tags": [],
            "needs_background": "light"
          }
        }
      ]
    },
    {
      "cell_type": "code",
      "metadata": {
        "id": "LA6eo7A6cqeT"
      },
      "source": [
        "mean_f_bal_aug = gen_aug[\"amount\"].iloc[0]\n",
        "mean_m_bal_aug = gen_aug[\"amount\"].iloc[1]"
      ],
      "execution_count": 96,
      "outputs": []
    },
    {
      "cell_type": "code",
      "metadata": {
        "id": "xQEoV7Rjf-cb",
        "outputId": "bff619e9-df6f-458b-b963-1613d10a2905",
        "colab": {
          "base_uri": "https://localhost:8080/",
          "height": 297
        }
      },
      "source": [
        "plt.scatter(cus_aug[\"age\"], cus_aug[\"amount\"], c=\"black\", label=\"Amount\")\n",
        "plt.plot(cus_aug[\"age\"], np.linspace(mean_f_bal_aug,mean_f_bal_aug,n_points), c=\"r\", label = \"Mean female balance\")\n",
        "plt.plot(cus_aug[\"age\"], np.linspace(mean_m_bal_aug,mean_m_bal_aug,n_points), c=\"b\", label = \"Mean male balance\")\n",
        "plt.title(\"ANZ Customer Amount vs. Age for August\")\n",
        "plt.xlabel(\"Age (years)\")\n",
        "plt.ylabel(\"Amount ($)\")\n",
        "plt.legend()\n",
        "plt.tight_layout()"
      ],
      "execution_count": 97,
      "outputs": [
        {
          "output_type": "display_data",
          "data": {
            "image/png": "[encoded data removed]",
            "text/plain": [
              "<Figure size 432x288 with 1 Axes>"
            ]
          },
          "metadata": {
            "tags": [],
            "needs_background": "light"
          }
        }
      ]
    },
    {
      "cell_type": "markdown",
      "metadata": {
        "id": "PNZCw8P7Txbh"
      },
      "source": [
        "September"
      ]
    },
    {
      "cell_type": "code",
      "metadata": {
        "id": "WHQt0vzrT3DD"
      },
      "source": [
        "cus_aug = df1[df1[\"month\"] == \"September\"].groupby(\"customer_id\").mean()\n",
        "gen_aug = df1[df1[\"month\"] == \"September\"].groupby(\"gender\").mean()"
      ],
      "execution_count": 98,
      "outputs": []
    },
    {
      "cell_type": "code",
      "metadata": {
        "id": "tIsn_jw-TzuV"
      },
      "source": [
        "mean_f_bal_aug = gen_aug[\"balance\"].iloc[0]\n",
        "mean_m_bal_aug = gen_aug[\"balance\"].iloc[1]\n",
        "n_points = len(cus_aug[\"age\"])"
      ],
      "execution_count": 99,
      "outputs": []
    },
    {
      "cell_type": "code",
      "metadata": {
        "id": "ZDKLnF_cUTJ1",
        "outputId": "590a8196-50ee-45b6-b840-2f56b193b642",
        "colab": {
          "base_uri": "https://localhost:8080/",
          "height": 297
        }
      },
      "source": [
        "plt.scatter(cus_aug[\"age\"], cus_aug[\"balance\"], c=\"black\", label=\"Balance\")\n",
        "plt.plot(cus_aug[\"age\"], np.linspace(mean_f_bal_aug,mean_f_bal_aug,n_points), c=\"r\", label = \"Mean female balance\")\n",
        "plt.plot(cus_aug[\"age\"], np.linspace(mean_m_bal_aug,mean_m_bal_aug,n_points), c=\"b\", label = \"Mean male balance\")\n",
        "plt.title(\"ANZ Customer Balance vs. Age for September\")\n",
        "plt.xlabel(\"Age (years)\")\n",
        "plt.ylabel(\"Balance ($)\")\n",
        "plt.legend()\n",
        "plt.tight_layout()"
      ],
      "execution_count": 100,
      "outputs": [
        {
          "output_type": "display_data",
          "data": {
            "image/png": "[encoded data removed]",
            "text/plain": [
              "<Figure size 432x288 with 1 Axes>"
            ]
          },
          "metadata": {
            "tags": [],
            "needs_background": "light"
          }
        }
      ]
    },
    {
      "cell_type": "code",
      "metadata": {
        "id": "_obzO1gkUXIP"
      },
      "source": [
        "mean_f_bal_aug = gen_aug[\"amount\"].iloc[0]\n",
        "mean_m_bal_aug = gen_aug[\"amount\"].iloc[1]\n",
        "n_points = len(cus_aug[\"age\"])"
      ],
      "execution_count": 101,
      "outputs": []
    },
    {
      "cell_type": "code",
      "metadata": {
        "id": "nz7F_U0oUa8m",
        "outputId": "a5ddeca7-2ee0-44b9-de79-50af79ea2d0a",
        "colab": {
          "base_uri": "https://localhost:8080/",
          "height": 297
        }
      },
      "source": [
        "plt.scatter(cus_aug[\"age\"], cus_aug[\"amount\"], c=\"black\", label=\"Balance\")\n",
        "plt.plot(cus_aug[\"age\"], np.linspace(mean_f_bal_aug,mean_f_bal_aug,n_points), c=\"r\", label = \"Mean female amount\")\n",
        "plt.plot(cus_aug[\"age\"], np.linspace(mean_m_bal_aug,mean_m_bal_aug,n_points), c=\"b\", label = \"Mean male amount\")\n",
        "plt.title(\"ANZ Customer Amount vs. Age for September\")\n",
        "plt.xlabel(\"Age (years)\")\n",
        "plt.ylabel(\"Amount ($)\")\n",
        "plt.legend()\n",
        "plt.tight_layout()"
      ],
      "execution_count": 102,
      "outputs": [
        {
          "output_type": "display_data",
          "data": {
            "image/png": "[encoded data removed]",
            "text/plain": [
              "<Figure size 432x288 with 1 Axes>"
            ]
          },
          "metadata": {
            "tags": [],
            "needs_background": "light"
          }
        }
      ]
    },
    {
      "cell_type": "markdown",
      "metadata": {
        "id": "0sEFXEATUl7t"
      },
      "source": [
        "October"
      ]
    },
    {
      "cell_type": "code",
      "metadata": {
        "id": "77hPr_tWU7c_"
      },
      "source": [
        "cus_aug = df1[df1[\"month\"] == \"October\"].groupby(\"customer_id\").mean()\n",
        "gen_aug = df1[df1[\"month\"] == \"October\"].groupby(\"gender\").mean()"
      ],
      "execution_count": 103,
      "outputs": []
    },
    {
      "cell_type": "code",
      "metadata": {
        "id": "B77pzR-aU-8d"
      },
      "source": [
        "mean_f_bal_aug = gen_aug[\"balance\"].iloc[0]\n",
        "mean_m_bal_aug = gen_aug[\"balance\"].iloc[1]\n",
        "n_points = len(cus_aug[\"age\"])"
      ],
      "execution_count": 104,
      "outputs": []
    },
    {
      "cell_type": "code",
      "metadata": {
        "id": "8DrZmE-BVDl0",
        "outputId": "7f7eaf60-78fa-4242-87dc-5b30422e9d5c",
        "colab": {
          "base_uri": "https://localhost:8080/",
          "height": 297
        }
      },
      "source": [
        "plt.scatter(cus_aug[\"age\"], cus_aug[\"balance\"], c=\"black\", label=\"Balance\")\n",
        "plt.plot(cus_aug[\"age\"], np.linspace(mean_f_bal_aug,mean_f_bal_aug,n_points), c=\"r\", label = \"Mean female balance\")\n",
        "plt.plot(cus_aug[\"age\"], np.linspace(mean_m_bal_aug,mean_m_bal_aug,n_points), c=\"b\", label = \"Mean male balance\")\n",
        "plt.title(\"ANZ Customer Balance vs. Age for October\")\n",
        "plt.xlabel(\"Age (years)\")\n",
        "plt.ylabel(\"Balance ($)\")\n",
        "plt.legend()\n",
        "plt.tight_layout()"
      ],
      "execution_count": 105,
      "outputs": [
        {
          "output_type": "display_data",
          "data": {
            "image/png": "[encoded data removed]",
            "text/plain": [
              "<Figure size 432x288 with 1 Axes>"
            ]
          },
          "metadata": {
            "tags": [],
            "needs_background": "light"
          }
        }
      ]
    },
    {
      "cell_type": "code",
      "metadata": {
        "id": "0ReLtCF-VIZD"
      },
      "source": [
        "mean_f_bal_aug = gen_aug[\"amount\"].iloc[0]\n",
        "mean_m_bal_aug = gen_aug[\"amount\"].iloc[1]\n",
        "n_points = len(cus_aug[\"age\"])"
      ],
      "execution_count": 106,
      "outputs": []
    },
    {
      "cell_type": "code",
      "metadata": {
        "id": "bF7UJaniVLIY",
        "outputId": "a8d34fde-4a62-4a8d-90b7-6102005fddbc",
        "colab": {
          "base_uri": "https://localhost:8080/",
          "height": 297
        }
      },
      "source": [
        "plt.scatter(cus_aug[\"age\"], cus_aug[\"amount\"], c=\"black\", label=\"Balance\")\n",
        "plt.plot(cus_aug[\"age\"], np.linspace(mean_f_bal_aug,mean_f_bal_aug,n_points), c=\"r\", label = \"Mean female amount\")\n",
        "plt.plot(cus_aug[\"age\"], np.linspace(mean_m_bal_aug,mean_m_bal_aug,n_points), c=\"b\", label = \"Mean male amount\")\n",
        "plt.title(\"ANZ Customer Amount vs. Age for October\")\n",
        "plt.xlabel(\"Age (years)\")\n",
        "plt.ylabel(\"Amount ($)\")\n",
        "plt.legend()\n",
        "plt.tight_layout()"
      ],
      "execution_count": 107,
      "outputs": [
        {
          "output_type": "display_data",
          "data": {
            "image/png": "[encoded data removed]",
            "text/plain": [
              "<Figure size 432x288 with 1 Axes>"
            ]
          },
          "metadata": {
            "tags": [],
            "needs_background": "light"
          }
        }
      ]
    },
    {
      "cell_type": "code",
      "metadata": {
        "id": "bfRKwp9lgPW2",
        "outputId": "75eb681c-076e-4026-de1a-81104ad5095f",
        "colab": {
          "base_uri": "https://localhost:8080/",
          "height": 396
        }
      },
      "source": [
        "plt.figure(figsize=(8,6))\n",
        "sns.heatmap(df1.corr(),annot=True)"
      ],
      "execution_count": 108,
      "outputs": [
        {
          "output_type": "execute_result",
          "data": {
            "text/plain": [
              "<matplotlib.axes._subplots.AxesSubplot at 0x7f547f9d9908>"
            ]
          },
          "metadata": {
            "tags": []
          },
          "execution_count": 108
        },
        {
          "output_type": "display_data",
          "data": {
            "image/png": "[encoded data removed]",
            "text/plain": [
              "<Figure size 576x432 with 2 Axes>"
            ]
          },
          "metadata": {
            "tags": [],
            "needs_background": "light"
          }
        }
      ]
    },
    {
      "cell_type": "code",
      "metadata": {
        "id": "xlwJplwWi1rc",
        "outputId": "479fccc6-878c-4ce8-d43d-3e7d2c6e168c",
        "colab": {
          "base_uri": "https://localhost:8080/",
          "height": 350
        }
      },
      "source": [
        "sns.countplot(df1['gender'])"
      ],
      "execution_count": 109,
      "outputs": [
        {
          "output_type": "stream",
          "text": [
            "/usr/local/lib/python3.6/dist-packages/seaborn/_decorators.py:43: FutureWarning: Pass the following variable as a keyword arg: x. From version 0.12, the only valid positional argument will be `data`, and passing other arguments without an explicit keyword will result in an error or misinterpretation.\n",
            "  FutureWarning\n"
          ],
          "name": "stderr"
        },
        {
          "output_type": "execute_result",
          "data": {
            "text/plain": [
              "<matplotlib.axes._subplots.AxesSubplot at 0x7f547f11ff28>"
            ]
          },
          "metadata": {
            "tags": []
          },
          "execution_count": 109
        },
        {
          "output_type": "display_data",
          "data": {
            "image/png": "[encoded data removed]",
            "text/plain": [
              "<Figure size 432x288 with 1 Axes>"
            ]
          },
          "metadata": {
            "tags": [],
            "needs_background": "light"
          }
        }
      ]
    },
    {
      "cell_type": "code",
      "metadata": {
        "id": "bXZLJ1jgv2Kr",
        "outputId": "9d76de50-e9ac-48ed-e933-be55fc210d92",
        "colab": {
          "base_uri": "https://localhost:8080/",
          "height": 354
        }
      },
      "source": [
        "sns.lineplot('age','balance', data=df1)"
      ],
      "execution_count": 110,
      "outputs": [
        {
          "output_type": "stream",
          "text": [
            "/usr/local/lib/python3.6/dist-packages/seaborn/_decorators.py:43: FutureWarning: Pass the following variables as keyword args: x, y. From version 0.12, the only valid positional argument will be `data`, and passing other arguments without an explicit keyword will result in an error or misinterpretation.\n",
            "  FutureWarning\n"
          ],
          "name": "stderr"
        },
        {
          "output_type": "execute_result",
          "data": {
            "text/plain": [
              "<matplotlib.axes._subplots.AxesSubplot at 0x7f547efd2d68>"
            ]
          },
          "metadata": {
            "tags": []
          },
          "execution_count": 110
        },
        {
          "output_type": "display_data",
          "data": {
            "image/png": "[encoded data removed]",
            "text/plain": [
              "<Figure size 432x288 with 1 Axes>"
            ]
          },
          "metadata": {
            "tags": [],
            "needs_background": "light"
          }
        }
      ]
    },
    {
      "cell_type": "code",
      "metadata": {
        "id": "TMotIqzFwFul",
        "outputId": "2e65183a-9f7f-456f-f3c7-26f7b79bb7c6",
        "colab": {
          "base_uri": "https://localhost:8080/",
          "height": 350
        }
      },
      "source": [
        "sns.lineplot('age','amount', data=df1)"
      ],
      "execution_count": 111,
      "outputs": [
        {
          "output_type": "stream",
          "text": [
            "/usr/local/lib/python3.6/dist-packages/seaborn/_decorators.py:43: FutureWarning: Pass the following variables as keyword args: x, y. From version 0.12, the only valid positional argument will be `data`, and passing other arguments without an explicit keyword will result in an error or misinterpretation.\n",
            "  FutureWarning\n"
          ],
          "name": "stderr"
        },
        {
          "output_type": "execute_result",
          "data": {
            "text/plain": [
              "<matplotlib.axes._subplots.AxesSubplot at 0x7f547efc65c0>"
            ]
          },
          "metadata": {
            "tags": []
          },
          "execution_count": 111
        },
        {
          "output_type": "display_data",
          "data": {
            "image/png": "[encoded data removed]",
            "text/plain": [
              "<Figure size 432x288 with 1 Axes>"
            ]
          },
          "metadata": {
            "tags": [],
            "needs_background": "light"
          }
        }
      ]
    },
    {
      "cell_type": "code",
      "metadata": {
        "id": "_Nw0v21kwPR_",
        "outputId": "2c64ea52-2ce5-4b31-e477-3ad92108c0f9",
        "colab": {
          "base_uri": "https://localhost:8080/",
          "height": 350
        }
      },
      "source": [
        "sns.countplot(df1['weekday'])"
      ],
      "execution_count": 112,
      "outputs": [
        {
          "output_type": "stream",
          "text": [
            "/usr/local/lib/python3.6/dist-packages/seaborn/_decorators.py:43: FutureWarning: Pass the following variable as a keyword arg: x. From version 0.12, the only valid positional argument will be `data`, and passing other arguments without an explicit keyword will result in an error or misinterpretation.\n",
            "  FutureWarning\n"
          ],
          "name": "stderr"
        },
        {
          "output_type": "execute_result",
          "data": {
            "text/plain": [
              "<matplotlib.axes._subplots.AxesSubplot at 0x7f547efc6978>"
            ]
          },
          "metadata": {
            "tags": []
          },
          "execution_count": 112
        },
        {
          "output_type": "display_data",
          "data": {
            "image/png": "[encoded data removed]",
            "text/plain": [
              "<Figure size 432x288 with 1 Axes>"
            ]
          },
          "metadata": {
            "tags": [],
            "needs_background": "light"
          }
        }
      ]
    },
    {
      "cell_type": "code",
      "metadata": {
        "id": "NwtqFkGm5fb7"
      },
      "source": [
        ""
      ],
      "execution_count": 112,
      "outputs": []
    }
  ]
}